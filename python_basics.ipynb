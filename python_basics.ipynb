{
  "nbformat": 4,
  "nbformat_minor": 0,
  "metadata": {
    "colab": {
      "provenance": []
    },
    "kernelspec": {
      "name": "python3",
      "display_name": "Python 3"
    },
    "language_info": {
      "name": "python"
    }
  },
  "cells": [
    {
      "cell_type": "code",
      "source": [
        "#Practical Questions"
      ],
      "metadata": {
        "id": "-a3joQXMT6i4"
      },
      "execution_count": null,
      "outputs": []
    },
    {
      "cell_type": "code",
      "execution_count": null,
      "metadata": {
        "colab": {
          "base_uri": "https://localhost:8080/"
        },
        "id": "r9WHhYxxMiK9",
        "outputId": "7e89fac2-2cfa-41d3-f489-8e31b057f531"
      },
      "outputs": [
        {
          "output_type": "stream",
          "name": "stdout",
          "text": [
            "Hellow World\n"
          ]
        }
      ],
      "source": [
        "# 1 Write a Python program to print \"Hello, World!\n",
        "A = \"Hellow World\"\n",
        "print(A)"
      ]
    },
    {
      "cell_type": "code",
      "source": [
        "# 2 Write a Python program that displays your name and age.\n",
        "Name = \"Tarun\"\n",
        "Age = 25\n",
        "print(\"This is my name\", Name)\n",
        "print(\"This is my age\", Age)"
      ],
      "metadata": {
        "colab": {
          "base_uri": "https://localhost:8080/"
        },
        "id": "y5hONSDfMzsG",
        "outputId": "8e2850bd-5575-4ad7-d245-437721cdaf0c"
      },
      "execution_count": null,
      "outputs": [
        {
          "output_type": "stream",
          "name": "stdout",
          "text": [
            "This is my name Tarun\n",
            "This is my age 25\n"
          ]
        }
      ]
    },
    {
      "cell_type": "code",
      "source": [
        "# 3 Write code to print all the pre-defined keywords in Python using the keyword library.\n",
        "import keyword\n",
        "print(\"Python Keywords:\")\n",
        "print(keyword.kwlist)\n"
      ],
      "metadata": {
        "colab": {
          "base_uri": "https://localhost:8080/"
        },
        "id": "aANE_9cjNfDw",
        "outputId": "7a8bb707-ddfe-4066-e65d-15c4fb9052ff"
      },
      "execution_count": null,
      "outputs": [
        {
          "output_type": "stream",
          "name": "stdout",
          "text": [
            "Python Keywords:\n",
            "['False', 'None', 'True', 'and', 'as', 'assert', 'async', 'await', 'break', 'class', 'continue', 'def', 'del', 'elif', 'else', 'except', 'finally', 'for', 'from', 'global', 'if', 'import', 'in', 'is', 'lambda', 'nonlocal', 'not', 'or', 'pass', 'raise', 'return', 'try', 'while', 'with', 'yield']\n"
          ]
        }
      ]
    },
    {
      "cell_type": "code",
      "source": [
        "# 4 Write a program that checks if a given word is a Python keyword.\n",
        "a = True\n",
        "type(a)"
      ],
      "metadata": {
        "colab": {
          "base_uri": "https://localhost:8080/"
        },
        "id": "UurASfMTOU7v",
        "outputId": "d3baa052-73db-451d-a64d-26c6b5fb4d5b"
      },
      "execution_count": null,
      "outputs": [
        {
          "output_type": "execute_result",
          "data": {
            "text/plain": [
              "bool"
            ]
          },
          "metadata": {},
          "execution_count": 18
        }
      ]
    },
    {
      "cell_type": "code",
      "source": [
        "# 5 Create a list and tuple in Python, and demonstrate how attempting to change an element works differently for each\n",
        "a = [1,2,3, \"tarun\", 3+6j] #for list\n",
        "a[2] = \"pwskills\"\n",
        "a"
      ],
      "metadata": {
        "colab": {
          "base_uri": "https://localhost:8080/"
        },
        "id": "Yk21SBr_Pohm",
        "outputId": "8141ec9b-2c86-420c-983f-62fd2d48cd1d"
      },
      "execution_count": null,
      "outputs": [
        {
          "output_type": "execute_result",
          "data": {
            "text/plain": [
              "[1, 2, 'pwskills', 'tarun', (3+6j)]"
            ]
          },
          "metadata": {},
          "execution_count": 23
        }
      ]
    },
    {
      "cell_type": "code",
      "source": [
        "#tuple are immutable it cannot be changed\n",
        "a = (1,2, \"tarun\", 3+6j)\n",
        "a[3] = \"pwskills\"\n",
        "a"
      ],
      "metadata": {
        "colab": {
          "base_uri": "https://localhost:8080/",
          "height": 193
        },
        "id": "uguaHbvoQbDS",
        "outputId": "5166fe13-363a-44a1-d66e-fdac952b190b"
      },
      "execution_count": null,
      "outputs": [
        {
          "output_type": "error",
          "ename": "TypeError",
          "evalue": "'tuple' object does not support item assignment",
          "traceback": [
            "\u001b[0;31m---------------------------------------------------------------------------\u001b[0m",
            "\u001b[0;31mTypeError\u001b[0m                                 Traceback (most recent call last)",
            "\u001b[0;32m<ipython-input-25-666a1d9f5d46>\u001b[0m in \u001b[0;36m<cell line: 0>\u001b[0;34m()\u001b[0m\n\u001b[1;32m      1\u001b[0m \u001b[0;31m#tuple are immutable it cannot be changed\u001b[0m\u001b[0;34m\u001b[0m\u001b[0;34m\u001b[0m\u001b[0m\n\u001b[1;32m      2\u001b[0m \u001b[0ma\u001b[0m \u001b[0;34m=\u001b[0m \u001b[0;34m(\u001b[0m\u001b[0;36m1\u001b[0m\u001b[0;34m,\u001b[0m\u001b[0;36m2\u001b[0m\u001b[0;34m,\u001b[0m \u001b[0;34m\"tarun\"\u001b[0m\u001b[0;34m,\u001b[0m \u001b[0;36m3\u001b[0m\u001b[0;34m+\u001b[0m\u001b[0;36m6j\u001b[0m\u001b[0;34m)\u001b[0m\u001b[0;34m\u001b[0m\u001b[0;34m\u001b[0m\u001b[0m\n\u001b[0;32m----> 3\u001b[0;31m \u001b[0ma\u001b[0m\u001b[0;34m[\u001b[0m\u001b[0;36m3\u001b[0m\u001b[0;34m]\u001b[0m \u001b[0;34m=\u001b[0m \u001b[0;34m\"pwskills\"\u001b[0m\u001b[0;34m\u001b[0m\u001b[0;34m\u001b[0m\u001b[0m\n\u001b[0m\u001b[1;32m      4\u001b[0m \u001b[0ma\u001b[0m\u001b[0;34m\u001b[0m\u001b[0;34m\u001b[0m\u001b[0m\n",
            "\u001b[0;31mTypeError\u001b[0m: 'tuple' object does not support item assignment"
          ]
        }
      ]
    },
    {
      "cell_type": "code",
      "source": [
        "# 6 Write a function to demonstrate the behavior of mutable and immutable arguments."
      ],
      "metadata": {
        "id": "RF7BsCeMRfdH"
      },
      "execution_count": null,
      "outputs": []
    },
    {
      "cell_type": "code",
      "source": [
        "#8 Write a program to demonstrate the use of logical operators.\n",
        "a = 10\n",
        "b = 10\n",
        "print(a==b)"
      ],
      "metadata": {
        "colab": {
          "base_uri": "https://localhost:8080/"
        },
        "id": "0piNWBiZS3E4",
        "outputId": "f1a017a0-3b97-4827-9974-807dea480df6"
      },
      "execution_count": null,
      "outputs": [
        {
          "output_type": "stream",
          "name": "stdout",
          "text": [
            "True\n"
          ]
        }
      ]
    },
    {
      "cell_type": "code",
      "source": [
        "a = 10\n",
        "b = 20\n",
        "print(a<b)"
      ],
      "metadata": {
        "colab": {
          "base_uri": "https://localhost:8080/"
        },
        "id": "1to2kDGtTlcU",
        "outputId": "1710dd8e-7282-4427-a3cc-eb1563c44085"
      },
      "execution_count": null,
      "outputs": [
        {
          "output_type": "stream",
          "name": "stdout",
          "text": [
            "True\n"
          ]
        }
      ]
    },
    {
      "cell_type": "code",
      "source": [
        "a = 10\n",
        "b = 20\n",
        "print(a>b)"
      ],
      "metadata": {
        "colab": {
          "base_uri": "https://localhost:8080/"
        },
        "id": "BPlHDktyTzA2",
        "outputId": "4d14ff6b-e36f-4f6e-d29f-60698f9c8fea"
      },
      "execution_count": null,
      "outputs": [
        {
          "output_type": "stream",
          "name": "stdout",
          "text": [
            "False\n"
          ]
        }
      ]
    },
    {
      "cell_type": "code",
      "source": [
        "#Write a Python program to convert user input from string to integer, float, and boolean types.\n",
        "a = int(input(\"Enter the number\"))\n",
        "print(a)\n"
      ],
      "metadata": {
        "colab": {
          "base_uri": "https://localhost:8080/"
        },
        "id": "KwK0pHjuT2BR",
        "outputId": "d801f2bb-98d4-46a4-ee06-4aff8425230d"
      },
      "execution_count": null,
      "outputs": [
        {
          "output_type": "stream",
          "name": "stdout",
          "text": [
            "Enter the number 3\n",
            "3\n"
          ]
        }
      ]
    },
    {
      "cell_type": "code",
      "source": [
        "type(a)"
      ],
      "metadata": {
        "colab": {
          "base_uri": "https://localhost:8080/"
        },
        "id": "SIwatFOPU6PL",
        "outputId": "dbe41b09-7434-4ca8-ddc3-557e323f4766"
      },
      "execution_count": null,
      "outputs": [
        {
          "output_type": "execute_result",
          "data": {
            "text/plain": [
              "int"
            ]
          },
          "metadata": {},
          "execution_count": 34
        }
      ]
    },
    {
      "cell_type": "code",
      "source": [
        "a = float(input(\"Enter the number\"))\n",
        "print(a)"
      ],
      "metadata": {
        "colab": {
          "base_uri": "https://localhost:8080/"
        },
        "id": "EBcZIAthU-T7",
        "outputId": "42f47825-8209-4139-c1e4-990959049375"
      },
      "execution_count": null,
      "outputs": [
        {
          "output_type": "stream",
          "name": "stdout",
          "text": [
            "Enter the number 6\n",
            "6.0\n"
          ]
        }
      ]
    },
    {
      "cell_type": "code",
      "source": [
        "a = bool(input(\"Enter the number\"))\n",
        "print(a)\n"
      ],
      "metadata": {
        "colab": {
          "base_uri": "https://localhost:8080/"
        },
        "id": "rH-s6JcdVaQM",
        "outputId": "38c2e620-d156-4228-a4dc-3c0d483aa05c"
      },
      "execution_count": null,
      "outputs": [
        {
          "output_type": "stream",
          "name": "stdout",
          "text": [
            "Enter the number 4\n",
            "True\n"
          ]
        }
      ]
    },
    {
      "cell_type": "code",
      "source": [
        "# 10 Write code to demonstrate type casting with list elements.\n",
        "a = str[\"1,\"2\",\"3\",]\n",
        "print(a)"
      ],
      "metadata": {
        "colab": {
          "base_uri": "https://localhost:8080/",
          "height": 106
        },
        "id": "EtO039C9Vgnz",
        "outputId": "98d9f634-b0ab-462c-9494-fd257db6a00a"
      },
      "execution_count": null,
      "outputs": [
        {
          "output_type": "error",
          "ename": "SyntaxError",
          "evalue": "unterminated string literal (detected at line 2) (<ipython-input-51-ac78f2be96fe>, line 2)",
          "traceback": [
            "\u001b[0;36m  File \u001b[0;32m\"<ipython-input-51-ac78f2be96fe>\"\u001b[0;36m, line \u001b[0;32m2\u001b[0m\n\u001b[0;31m    a = str[\"1,\"2\",\"3\",]\u001b[0m\n\u001b[0m                     ^\u001b[0m\n\u001b[0;31mSyntaxError\u001b[0m\u001b[0;31m:\u001b[0m unterminated string literal (detected at line 2)\n"
          ]
        }
      ]
    },
    {
      "cell_type": "code",
      "source": [
        "type(a)"
      ],
      "metadata": {
        "colab": {
          "base_uri": "https://localhost:8080/"
        },
        "id": "gw0KW0bRW66L",
        "outputId": "969dcb38-bd73-4943-d878-dec8e7433d32"
      },
      "execution_count": null,
      "outputs": [
        {
          "output_type": "execute_result",
          "data": {
            "text/plain": [
              "str"
            ]
          },
          "metadata": {},
          "execution_count": 47
        }
      ]
    },
    {
      "cell_type": "code",
      "source": [
        "# 11 Write a program that checks if a number is positive, negative, or zero.\n",
        "Number = int(input(\"enter the number\"))\n",
        "if Number > 0:\n",
        "  print(\"Number is positive\")\n",
        "elif Number < 0:\n",
        "    print(\"Number is negative\")\n",
        "else:\n",
        "  print(\"Number is zero\")"
      ],
      "metadata": {
        "colab": {
          "base_uri": "https://localhost:8080/"
        },
        "id": "rZAsqftRZqk-",
        "outputId": "730b7615-0383-4104-9c5a-26d192d0b1db"
      },
      "execution_count": null,
      "outputs": [
        {
          "output_type": "stream",
          "name": "stdout",
          "text": [
            "enter the number-4\n",
            "Number is negative\n"
          ]
        }
      ]
    },
    {
      "cell_type": "code",
      "source": [
        "# 12 write a for loop to print numbers from 1 to 10.\n",
        "number = range(1,11)\n",
        "for i in number:\n",
        "  print(i)"
      ],
      "metadata": {
        "colab": {
          "base_uri": "https://localhost:8080/"
        },
        "id": "Mp3lmQe6cREG",
        "outputId": "c4bfff05-17ec-4c51-d619-28e1bbb8330c"
      },
      "execution_count": null,
      "outputs": [
        {
          "output_type": "stream",
          "name": "stdout",
          "text": [
            "1\n",
            "2\n",
            "3\n",
            "4\n",
            "5\n",
            "6\n",
            "7\n",
            "8\n",
            "9\n",
            "10\n"
          ]
        }
      ]
    },
    {
      "cell_type": "code",
      "source": [
        " # 13 Write a Python program to find the sum of all even numbers between 1 and 50.\n",
        "Even_sum = 0\n",
        "Even_num = range(1,51)\n",
        "for i in Even_num:\n",
        "   if i%2 == 0:\n",
        "     Even_sum += i\n",
        "print(Even_sum)"
      ],
      "metadata": {
        "colab": {
          "base_uri": "https://localhost:8080/"
        },
        "id": "eEaXLu8Uc525",
        "outputId": "b0c54c04-19ea-4c7f-e37a-3caf5bf7dbb6"
      },
      "execution_count": null,
      "outputs": [
        {
          "output_type": "stream",
          "name": "stdout",
          "text": [
            "650\n"
          ]
        }
      ]
    },
    {
      "cell_type": "code",
      "source": [
        "# 14 Write a program to reverse a string using a while loop.\n",
        "\n",
        "a = \"tarun\"\n",
        "reverse = \"\"\n",
        "length = len(a)\n",
        "while length > 0:\n",
        "  reverse += a[length - 1]\n",
        "  length = length - 1\n",
        "print(reverse)"
      ],
      "metadata": {
        "id": "WC4R2-GDnMw7",
        "colab": {
          "base_uri": "https://localhost:8080/"
        },
        "outputId": "c7b3aa57-4e36-4f3e-ffae-4f2e4f9072ee"
      },
      "execution_count": 2,
      "outputs": [
        {
          "output_type": "stream",
          "name": "stdout",
          "text": [
            "nurat\n"
          ]
        }
      ]
    },
    {
      "cell_type": "code",
      "source": [
        "# 15 Write a Python program to calculate the factorial of a number provided by the user using a while loop.\n",
        "num = input(\"enter the number\")\n",
        "factorial_num = \"\"\n",
        "while length > 0:\n",
        "  factorial_num += num[length - 1]\n",
        "  length = length - 1\n",
        "print(factorial_num)"
      ],
      "metadata": {
        "colab": {
          "base_uri": "https://localhost:8080/"
        },
        "id": "avjyskJ8aID7",
        "outputId": "375c30f5-02ab-4f13-9e70-01377b1ce127"
      },
      "execution_count": 6,
      "outputs": [
        {
          "output_type": "stream",
          "name": "stdout",
          "text": [
            "enter the number5\n",
            "\n"
          ]
        }
      ]
    },
    {
      "cell_type": "code",
      "source": [
        "#Theory Question\n"
      ],
      "metadata": {
        "id": "DZGskjpCcBnK"
      },
      "execution_count": 7,
      "outputs": []
    },
    {
      "cell_type": "code",
      "source": [
        "#1 What is Python, and why is it popular?\n",
        "#ans phyton is programing language that is a formal language for a computer to follow. Python is so popular because it is widely used in the industry, ease of learing and having huge active community."
      ],
      "metadata": {
        "id": "ige1DMoBdH_1"
      },
      "execution_count": 8,
      "outputs": []
    },
    {
      "cell_type": "code",
      "source": [
        "#2 What is an interpreter in Python.\n",
        "#ans Interpreter in Python is a program that executes Python code line by line, converting it into machine-readable instructions."
      ],
      "metadata": {
        "id": "LdZ6Q56Pd4PV"
      },
      "execution_count": 10,
      "outputs": []
    },
    {
      "cell_type": "code",
      "source": [
        "#3 What are pre-defined keywords in Python.\n",
        "#ans Keywords are predefined keys that hold a speacial meaning and have specific purpose."
      ],
      "metadata": {
        "id": "MN5CpSXTeaQR"
      },
      "execution_count": 11,
      "outputs": []
    },
    {
      "cell_type": "code",
      "source": [
        "#4 Can keywords be used as variable names.\n",
        "#ans No, keywords cannnot be used as a variables. because keywords have predefined and specific meaning."
      ],
      "metadata": {
        "id": "qr700hY-exTD"
      },
      "execution_count": 12,
      "outputs": []
    },
    {
      "cell_type": "code",
      "source": [
        "#5 What is mutability in Python.\n",
        "#ans Objects or variables which can be changed after creation is called mutability e.g. list."
      ],
      "metadata": {
        "id": "jlzYREUsfgui"
      },
      "execution_count": 13,
      "outputs": []
    },
    {
      "cell_type": "code",
      "source": [
        "#6 Why are lists mutable, but tuples are immutable.\n",
        "#ans List is a type of mutable object thats supports item assignment and the otherhand tuples cannot supports the item assignment thats why they are immutable."
      ],
      "metadata": {
        "id": "IGzDzj5NgFKB"
      },
      "execution_count": 15,
      "outputs": []
    },
    {
      "cell_type": "code",
      "source": [
        "#7 What is the difference between “==” and “is” operators in Python.\n",
        "#ans In Python, == and is are both comparison operators but == Checks if two values are equal does not check object in same memory or not and is Checks if two variables refer to the same object in memory."
      ],
      "metadata": {
        "id": "Ud0HsQDugKXn"
      },
      "execution_count": 16,
      "outputs": []
    },
    {
      "cell_type": "code",
      "source": [
        "#8 What are logical operators in Python.\n",
        "#ans Logical operators are used to combine conditional statements. There are three types of logical operator are AND, OR & NOT."
      ],
      "metadata": {
        "id": "zBACDElbh7Xi"
      },
      "execution_count": 17,
      "outputs": []
    },
    {
      "cell_type": "code",
      "source": [
        "#9 What is type casting in Python.\n",
        "#ans The process of changing the data type of a value/object. while computation there can be mismatched between the data."
      ],
      "metadata": {
        "id": "C2RVt5FhisXq"
      },
      "execution_count": 18,
      "outputs": []
    },
    {
      "cell_type": "code",
      "source": [
        "#10 What is the difference between implicit and explicit type casting.\n",
        "#ans In Implicit type casting python automatically converts one data type into another without the need for explicit instruction. without the data loss.\n",
        "    #In explicit converts one type to another using built-in functions like int(), float(), str(), bool(), etc. this have chances of data loss."
      ],
      "metadata": {
        "id": "aQ8tKC6MjH39"
      },
      "execution_count": 21,
      "outputs": []
    },
    {
      "cell_type": "code",
      "source": [
        "#11 What is the purpose of conditional statements in Python.\n",
        "#ans Conditional statements in Python control the flow of execution based on specific conditions. They allow the program to make decisions and execute different code blocks depending on whether a condition is true or false."
      ],
      "metadata": {
        "id": "okoohr4gkMb3"
      },
      "execution_count": 22,
      "outputs": []
    },
    {
      "cell_type": "code",
      "source": [
        "#12 How does the elif statement work.\n",
        "#ans The elif statement is used when you need to check multiple conditions in a sequence. It allows the program to test multiple expressions"
      ],
      "metadata": {
        "id": "4JY0UQktk8AF"
      },
      "execution_count": 23,
      "outputs": []
    },
    {
      "cell_type": "code",
      "source": [
        "#13 What is the difference between for and while loops.\n",
        "#ans Both for and while loops are used to execute a block of code multiple times, but they function differently.\n",
        "#for Loop: Used when the number of iterations is known beforehand. It iterates over a sequence (list, tuple, range, string, etc.).\n",
        "#while loop: Used when the number of iterations is unknown and depends on a condition. It continues running as long as a given condition is True."
      ],
      "metadata": {
        "id": "hKIb9qKVljNe"
      },
      "execution_count": 26,
      "outputs": []
    },
    {
      "cell_type": "code",
      "source": [
        "#14 Describe a scenario where a while loop is more suitable than a for loop.\n",
        "#ans A while loop is more suitable when the number of iterations is not known beforehand and depends on a condition being met.\n",
        "\n",
        "#Example: User Input Validation\n",
        "#Imagine a scenario where a program asks a user to enter a valid password. The program should keep prompting the user until they enter the correct password."
      ],
      "metadata": {
        "id": "GG4BhM9hlnhS"
      },
      "execution_count": 27,
      "outputs": []
    },
    {
      "cell_type": "code",
      "source": [],
      "metadata": {
        "id": "46p-nJW6nB33"
      },
      "execution_count": null,
      "outputs": []
    }
  ]
}